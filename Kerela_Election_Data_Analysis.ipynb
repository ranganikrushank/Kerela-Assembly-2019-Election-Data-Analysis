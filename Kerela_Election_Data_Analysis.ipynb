{
 "cells": [
  {
   "cell_type": "markdown",
   "id": "3ef64896-9541-4050-8ff0-0b7b1f3e7d46",
   "metadata": {},
   "source": [
    "<font size=\"7\"><center>**KERELA ELECTION DATA ANALYSIS**</center></font>"
   ]
  },
  {
   "cell_type": "markdown",
   "id": "141b1f43-f384-44d8-b1b7-bd0aa942c45e",
   "metadata": {},
   "source": [
    "<center><img src=\"image2.jpg\" alt=\"Alt text\" width=\"1100\"/></center>"
   ]
  },
  {
   "cell_type": "code",
   "execution_count": 2,
   "id": "737555f2-e157-43de-9c29-6ca21140a45b",
   "metadata": {},
   "outputs": [],
   "source": [
    "import pandas as pd\n",
    "import numpy as np\n",
    "import seaborn as sns\n",
    "import matplotlib.pyplot as plt\n",
    "from warnings import filterwarnings\n",
    "filterwarnings(\"ignore\")"
   ]
  },
  {
   "cell_type": "code",
   "execution_count": 3,
   "id": "c86a7ff0-c635-4e67-8513-8bdf120f0579",
   "metadata": {},
   "outputs": [],
   "source": [
    "df = pd.read_csv(\"Assemby Constituency_Kerala_2021.csv\")"
   ]
  },
  {
   "cell_type": "markdown",
   "id": "0add34e1-fe37-4271-b9a5-f53e9421b969",
   "metadata": {},
   "source": [
    "<font size=\"6\">**STATISTICAL VIEW**</font>"
   ]
  },
  {
   "cell_type": "code",
   "execution_count": 4,
   "id": "8c698f22-1112-4c47-a873-c4c9abf7c5b8",
   "metadata": {},
   "outputs": [
    {
     "data": {
      "text/html": [
       "<div>\n",
       "<style scoped>\n",
       "    .dataframe tbody tr th:only-of-type {\n",
       "        vertical-align: middle;\n",
       "    }\n",
       "\n",
       "    .dataframe tbody tr th {\n",
       "        vertical-align: top;\n",
       "    }\n",
       "\n",
       "    .dataframe thead th {\n",
       "        text-align: right;\n",
       "    }\n",
       "</style>\n",
       "<table border=\"1\" class=\"dataframe\">\n",
       "  <thead>\n",
       "    <tr style=\"text-align: right;\">\n",
       "      <th></th>\n",
       "      <th>AC Name</th>\n",
       "      <th>AC No.</th>\n",
       "      <th>Type</th>\n",
       "      <th>District</th>\n",
       "      <th>Winning Candidate</th>\n",
       "      <th>Party</th>\n",
       "      <th>Total Electors</th>\n",
       "      <th>Total Votes</th>\n",
       "      <th>Poll%</th>\n",
       "      <th>Margin</th>\n",
       "      <th>Margin %</th>\n",
       "    </tr>\n",
       "  </thead>\n",
       "  <tbody>\n",
       "    <tr>\n",
       "      <th>0</th>\n",
       "      <td>Adoor</td>\n",
       "      <td>115</td>\n",
       "      <td>SC</td>\n",
       "      <td>Pathanamthitta</td>\n",
       "      <td>Chittayam Gopakumar</td>\n",
       "      <td>Communist Party Of India</td>\n",
       "      <td>204205</td>\n",
       "      <td>154817</td>\n",
       "      <td>75.8</td>\n",
       "      <td>2919</td>\n",
       "      <td>1.9</td>\n",
       "    </tr>\n",
       "    <tr>\n",
       "      <th>1</th>\n",
       "      <td>Alappuzha</td>\n",
       "      <td>104</td>\n",
       "      <td>GEN</td>\n",
       "      <td>Alappuzha</td>\n",
       "      <td>P.P Chitharanjan</td>\n",
       "      <td>Communist Party Of India (Marxist)</td>\n",
       "      <td>194187</td>\n",
       "      <td>157357</td>\n",
       "      <td>81.0</td>\n",
       "      <td>11644</td>\n",
       "      <td>7.4</td>\n",
       "    </tr>\n",
       "    <tr>\n",
       "      <th>2</th>\n",
       "      <td>Alathur</td>\n",
       "      <td>60</td>\n",
       "      <td>GEN</td>\n",
       "      <td>Palakkad</td>\n",
       "      <td>K.D.Prasenan</td>\n",
       "      <td>Communist Party Of India (Marxist)</td>\n",
       "      <td>164415</td>\n",
       "      <td>134583</td>\n",
       "      <td>81.9</td>\n",
       "      <td>34118</td>\n",
       "      <td>25.4</td>\n",
       "    </tr>\n",
       "    <tr>\n",
       "      <th>3</th>\n",
       "      <td>Aluva</td>\n",
       "      <td>76</td>\n",
       "      <td>GEN</td>\n",
       "      <td>Ernakulam</td>\n",
       "      <td>Anwar Sadath</td>\n",
       "      <td>Indian National Congress</td>\n",
       "      <td>182360</td>\n",
       "      <td>149489</td>\n",
       "      <td>82.0</td>\n",
       "      <td>18886</td>\n",
       "      <td>12.6</td>\n",
       "    </tr>\n",
       "    <tr>\n",
       "      <th>4</th>\n",
       "      <td>Ambalapuzha</td>\n",
       "      <td>105</td>\n",
       "      <td>GEN</td>\n",
       "      <td>Alappuzha</td>\n",
       "      <td>H.Salam</td>\n",
       "      <td>Communist Party Of India (Marxist)</td>\n",
       "      <td>171291</td>\n",
       "      <td>136430</td>\n",
       "      <td>79.6</td>\n",
       "      <td>11125</td>\n",
       "      <td>8.2</td>\n",
       "    </tr>\n",
       "  </tbody>\n",
       "</table>\n",
       "</div>"
      ],
      "text/plain": [
       "       AC Name  AC No. Type        District    Winning Candidate  \\\n",
       "0        Adoor     115   SC  Pathanamthitta  Chittayam Gopakumar   \n",
       "1    Alappuzha     104  GEN       Alappuzha     P.P Chitharanjan   \n",
       "2      Alathur      60  GEN        Palakkad         K.D.Prasenan   \n",
       "3        Aluva      76  GEN       Ernakulam         Anwar Sadath   \n",
       "4  Ambalapuzha     105  GEN       Alappuzha              H.Salam   \n",
       "\n",
       "                                Party  Total Electors  Total Votes  Poll%  \\\n",
       "0            Communist Party Of India          204205       154817   75.8   \n",
       "1  Communist Party Of India (Marxist)          194187       157357   81.0   \n",
       "2  Communist Party Of India (Marxist)          164415       134583   81.9   \n",
       "3            Indian National Congress          182360       149489   82.0   \n",
       "4  Communist Party Of India (Marxist)          171291       136430   79.6   \n",
       "\n",
       "   Margin  Margin %  \n",
       "0    2919       1.9  \n",
       "1   11644       7.4  \n",
       "2   34118      25.4  \n",
       "3   18886      12.6  \n",
       "4   11125       8.2  "
      ]
     },
     "execution_count": 4,
     "metadata": {},
     "output_type": "execute_result"
    }
   ],
   "source": [
    "df.head()"
   ]
  },
  {
   "cell_type": "code",
   "execution_count": 5,
   "id": "7de8094a-3632-414b-93af-a8dcf8bb4272",
   "metadata": {},
   "outputs": [
    {
     "data": {
      "text/html": [
       "<div>\n",
       "<style scoped>\n",
       "    .dataframe tbody tr th:only-of-type {\n",
       "        vertical-align: middle;\n",
       "    }\n",
       "\n",
       "    .dataframe tbody tr th {\n",
       "        vertical-align: top;\n",
       "    }\n",
       "\n",
       "    .dataframe thead th {\n",
       "        text-align: right;\n",
       "    }\n",
       "</style>\n",
       "<table border=\"1\" class=\"dataframe\">\n",
       "  <thead>\n",
       "    <tr style=\"text-align: right;\">\n",
       "      <th></th>\n",
       "      <th>AC Name</th>\n",
       "      <th>AC No.</th>\n",
       "      <th>Type</th>\n",
       "      <th>District</th>\n",
       "      <th>Winning Candidate</th>\n",
       "      <th>Party</th>\n",
       "      <th>Total Electors</th>\n",
       "      <th>Total Votes</th>\n",
       "      <th>Poll%</th>\n",
       "      <th>Margin</th>\n",
       "      <th>Margin %</th>\n",
       "    </tr>\n",
       "  </thead>\n",
       "  <tbody>\n",
       "    <tr>\n",
       "      <th>135</th>\n",
       "      <td>Vattiyoorkavu</td>\n",
       "      <td>133</td>\n",
       "      <td>GEN</td>\n",
       "      <td>Thiruvananthapuram</td>\n",
       "      <td>Adv.V.K.Prasanth</td>\n",
       "      <td>Communist Party Of India (Marxist)</td>\n",
       "      <td>195974</td>\n",
       "      <td>136782</td>\n",
       "      <td>69.8</td>\n",
       "      <td>21515</td>\n",
       "      <td>15.7</td>\n",
       "    </tr>\n",
       "    <tr>\n",
       "      <th>136</th>\n",
       "      <td>Vengara</td>\n",
       "      <td>41</td>\n",
       "      <td>GEN</td>\n",
       "      <td>Malappuram</td>\n",
       "      <td>P.K Kunjhalikutty</td>\n",
       "      <td>Indian Union Muslim League</td>\n",
       "      <td>176389</td>\n",
       "      <td>130764</td>\n",
       "      <td>74.1</td>\n",
       "      <td>30596</td>\n",
       "      <td>23.4</td>\n",
       "    </tr>\n",
       "    <tr>\n",
       "      <th>137</th>\n",
       "      <td>Vypen</td>\n",
       "      <td>79</td>\n",
       "      <td>GEN</td>\n",
       "      <td>Ernakulam</td>\n",
       "      <td>K.N. Unnikrishnan</td>\n",
       "      <td>Communist Party Of India (Marxist)</td>\n",
       "      <td>165552</td>\n",
       "      <td>130071</td>\n",
       "      <td>78.6</td>\n",
       "      <td>8201</td>\n",
       "      <td>6.3</td>\n",
       "    </tr>\n",
       "    <tr>\n",
       "      <th>138</th>\n",
       "      <td>Wadakkanchery</td>\n",
       "      <td>65</td>\n",
       "      <td>GEN</td>\n",
       "      <td>Thrissur</td>\n",
       "      <td>Xavier Chittilappilly</td>\n",
       "      <td>Communist Party Of India (Marxist)</td>\n",
       "      <td>200294</td>\n",
       "      <td>169019</td>\n",
       "      <td>84.4</td>\n",
       "      <td>15168</td>\n",
       "      <td>9.0</td>\n",
       "    </tr>\n",
       "    <tr>\n",
       "      <th>139</th>\n",
       "      <td>Wandoor</td>\n",
       "      <td>36</td>\n",
       "      <td>SC</td>\n",
       "      <td>Malappuram</td>\n",
       "      <td>A P Anilkumar</td>\n",
       "      <td>Indian National Congress</td>\n",
       "      <td>214741</td>\n",
       "      <td>169267</td>\n",
       "      <td>78.8</td>\n",
       "      <td>15563</td>\n",
       "      <td>9.2</td>\n",
       "    </tr>\n",
       "  </tbody>\n",
       "</table>\n",
       "</div>"
      ],
      "text/plain": [
       "           AC Name  AC No. Type            District      Winning Candidate  \\\n",
       "135  Vattiyoorkavu     133  GEN  Thiruvananthapuram       Adv.V.K.Prasanth   \n",
       "136        Vengara      41  GEN          Malappuram      P.K Kunjhalikutty   \n",
       "137          Vypen      79  GEN           Ernakulam      K.N. Unnikrishnan   \n",
       "138  Wadakkanchery      65  GEN            Thrissur  Xavier Chittilappilly   \n",
       "139        Wandoor      36   SC          Malappuram          A P Anilkumar   \n",
       "\n",
       "                                  Party  Total Electors  Total Votes  Poll%  \\\n",
       "135  Communist Party Of India (Marxist)          195974       136782   69.8   \n",
       "136          Indian Union Muslim League          176389       130764   74.1   \n",
       "137  Communist Party Of India (Marxist)          165552       130071   78.6   \n",
       "138  Communist Party Of India (Marxist)          200294       169019   84.4   \n",
       "139            Indian National Congress          214741       169267   78.8   \n",
       "\n",
       "     Margin  Margin %  \n",
       "135   21515      15.7  \n",
       "136   30596      23.4  \n",
       "137    8201       6.3  \n",
       "138   15168       9.0  \n",
       "139   15563       9.2  "
      ]
     },
     "execution_count": 5,
     "metadata": {},
     "output_type": "execute_result"
    }
   ],
   "source": [
    "df.tail()"
   ]
  },
  {
   "cell_type": "code",
   "execution_count": 6,
   "id": "1c42398e-9301-4cf7-a1bb-857dfbe3e095",
   "metadata": {},
   "outputs": [
    {
     "data": {
      "text/plain": [
       "Index(['AC Name', 'AC No.', 'Type', 'District', 'Winning Candidate', 'Party',\n",
       "       'Total Electors', 'Total Votes', 'Poll%', 'Margin', 'Margin %'],\n",
       "      dtype='object')"
      ]
     },
     "execution_count": 6,
     "metadata": {},
     "output_type": "execute_result"
    }
   ],
   "source": [
    "df.columns"
   ]
  },
  {
   "cell_type": "code",
   "execution_count": 7,
   "id": "d0d1966f-3487-4d3a-bcf2-0954afbd28cc",
   "metadata": {},
   "outputs": [
    {
     "data": {
      "text/plain": [
       "(140, 11)"
      ]
     },
     "execution_count": 7,
     "metadata": {},
     "output_type": "execute_result"
    }
   ],
   "source": [
    "df.shape"
   ]
  },
  {
   "cell_type": "code",
   "execution_count": 8,
   "id": "6c4ddbde-202e-44e7-96ed-ec4070f1e737",
   "metadata": {},
   "outputs": [
    {
     "name": "stdout",
     "output_type": "stream",
     "text": [
      "Rows 140\n",
      "Columns 11\n"
     ]
    }
   ],
   "source": [
    "print(\"Rows\", df.shape[0])\n",
    "print(\"Columns\", df.shape[1])"
   ]
  },
  {
   "cell_type": "code",
   "execution_count": 9,
   "id": "b43a6e34-e4a5-41b9-aa5d-3de4af738429",
   "metadata": {},
   "outputs": [
    {
     "name": "stdout",
     "output_type": "stream",
     "text": [
      "<class 'pandas.core.frame.DataFrame'>\n",
      "RangeIndex: 140 entries, 0 to 139\n",
      "Data columns (total 11 columns):\n",
      " #   Column             Non-Null Count  Dtype  \n",
      "---  ------             --------------  -----  \n",
      " 0   AC Name            140 non-null    object \n",
      " 1   AC No.             140 non-null    int64  \n",
      " 2   Type               140 non-null    object \n",
      " 3   District           140 non-null    object \n",
      " 4   Winning Candidate  140 non-null    object \n",
      " 5   Party              140 non-null    object \n",
      " 6   Total Electors     140 non-null    int64  \n",
      " 7   Total Votes        140 non-null    int64  \n",
      " 8   Poll%              140 non-null    float64\n",
      " 9   Margin             140 non-null    int64  \n",
      " 10  Margin %           140 non-null    float64\n",
      "dtypes: float64(2), int64(4), object(5)\n",
      "memory usage: 12.2+ KB\n"
     ]
    }
   ],
   "source": [
    "df.info()"
   ]
  },
  {
   "cell_type": "code",
   "execution_count": 10,
   "id": "2c541559-df10-4b7f-8d34-86417ba08c7a",
   "metadata": {},
   "outputs": [
    {
     "data": {
      "text/html": [
       "<div>\n",
       "<style scoped>\n",
       "    .dataframe tbody tr th:only-of-type {\n",
       "        vertical-align: middle;\n",
       "    }\n",
       "\n",
       "    .dataframe tbody tr th {\n",
       "        vertical-align: top;\n",
       "    }\n",
       "\n",
       "    .dataframe thead th {\n",
       "        text-align: right;\n",
       "    }\n",
       "</style>\n",
       "<table border=\"1\" class=\"dataframe\">\n",
       "  <thead>\n",
       "    <tr style=\"text-align: right;\">\n",
       "      <th></th>\n",
       "      <th>AC No.</th>\n",
       "      <th>Total Electors</th>\n",
       "      <th>Total Votes</th>\n",
       "      <th>Poll%</th>\n",
       "      <th>Margin</th>\n",
       "      <th>Margin %</th>\n",
       "    </tr>\n",
       "  </thead>\n",
       "  <tbody>\n",
       "    <tr>\n",
       "      <th>count</th>\n",
       "      <td>140.0000</td>\n",
       "      <td>140.000000</td>\n",
       "      <td>140.000000</td>\n",
       "      <td>140.000000</td>\n",
       "      <td>140.000000</td>\n",
       "      <td>140.000000</td>\n",
       "    </tr>\n",
       "    <tr>\n",
       "      <th>mean</th>\n",
       "      <td>70.5000</td>\n",
       "      <td>187176.157143</td>\n",
       "      <td>148115.042857</td>\n",
       "      <td>79.135714</td>\n",
       "      <td>15934.085714</td>\n",
       "      <td>10.808571</td>\n",
       "    </tr>\n",
       "    <tr>\n",
       "      <th>std</th>\n",
       "      <td>40.5586</td>\n",
       "      <td>15405.646932</td>\n",
       "      <td>14764.904159</td>\n",
       "      <td>4.551434</td>\n",
       "      <td>11948.138975</td>\n",
       "      <td>8.079537</td>\n",
       "    </tr>\n",
       "    <tr>\n",
       "      <th>min</th>\n",
       "      <td>1.0000</td>\n",
       "      <td>149439.000000</td>\n",
       "      <td>109386.000000</td>\n",
       "      <td>66.100000</td>\n",
       "      <td>38.000000</td>\n",
       "      <td>0.000000</td>\n",
       "    </tr>\n",
       "    <tr>\n",
       "      <th>25%</th>\n",
       "      <td>35.7500</td>\n",
       "      <td>175896.500000</td>\n",
       "      <td>137070.750000</td>\n",
       "      <td>76.000000</td>\n",
       "      <td>6157.750000</td>\n",
       "      <td>4.275000</td>\n",
       "    </tr>\n",
       "    <tr>\n",
       "      <th>50%</th>\n",
       "      <td>70.5000</td>\n",
       "      <td>188683.500000</td>\n",
       "      <td>149304.500000</td>\n",
       "      <td>79.250000</td>\n",
       "      <td>14048.000000</td>\n",
       "      <td>9.450000</td>\n",
       "    </tr>\n",
       "    <tr>\n",
       "      <th>75%</th>\n",
       "      <td>105.2500</td>\n",
       "      <td>197409.000000</td>\n",
       "      <td>157692.500000</td>\n",
       "      <td>82.425000</td>\n",
       "      <td>23356.000000</td>\n",
       "      <td>15.925000</td>\n",
       "    </tr>\n",
       "    <tr>\n",
       "      <th>max</th>\n",
       "      <td>140.0000</td>\n",
       "      <td>228468.000000</td>\n",
       "      <td>192958.000000</td>\n",
       "      <td>89.300000</td>\n",
       "      <td>60963.000000</td>\n",
       "      <td>39.500000</td>\n",
       "    </tr>\n",
       "  </tbody>\n",
       "</table>\n",
       "</div>"
      ],
      "text/plain": [
       "         AC No.  Total Electors    Total Votes       Poll%        Margin  \\\n",
       "count  140.0000      140.000000     140.000000  140.000000    140.000000   \n",
       "mean    70.5000   187176.157143  148115.042857   79.135714  15934.085714   \n",
       "std     40.5586    15405.646932   14764.904159    4.551434  11948.138975   \n",
       "min      1.0000   149439.000000  109386.000000   66.100000     38.000000   \n",
       "25%     35.7500   175896.500000  137070.750000   76.000000   6157.750000   \n",
       "50%     70.5000   188683.500000  149304.500000   79.250000  14048.000000   \n",
       "75%    105.2500   197409.000000  157692.500000   82.425000  23356.000000   \n",
       "max    140.0000   228468.000000  192958.000000   89.300000  60963.000000   \n",
       "\n",
       "         Margin %  \n",
       "count  140.000000  \n",
       "mean    10.808571  \n",
       "std      8.079537  \n",
       "min      0.000000  \n",
       "25%      4.275000  \n",
       "50%      9.450000  \n",
       "75%     15.925000  \n",
       "max     39.500000  "
      ]
     },
     "execution_count": 10,
     "metadata": {},
     "output_type": "execute_result"
    }
   ],
   "source": [
    "df.describe()"
   ]
  },
  {
   "cell_type": "markdown",
   "id": "22bf9e5e-c77c-4d99-a4c5-78b14678ee87",
   "metadata": {},
   "source": [
    "<span style=\"color:red; font-size:30px;\">Checking for Null values</span>"
   ]
  },
  {
   "cell_type": "code",
   "execution_count": 11,
   "id": "700724ec-eb14-4515-8535-2634f095b6ef",
   "metadata": {},
   "outputs": [
    {
     "data": {
      "text/plain": [
       "AC Name              0\n",
       "AC No.               0\n",
       "Type                 0\n",
       "District             0\n",
       "Winning Candidate    0\n",
       "Party                0\n",
       "Total Electors       0\n",
       "Total Votes          0\n",
       "Poll%                0\n",
       "Margin               0\n",
       "Margin %             0\n",
       "dtype: int64"
      ]
     },
     "execution_count": 11,
     "metadata": {},
     "output_type": "execute_result"
    }
   ],
   "source": [
    "df.isnull().sum()"
   ]
  },
  {
   "cell_type": "markdown",
   "id": "6a2c55e3-75ea-4257-bdc1-776c54021920",
   "metadata": {},
   "source": [
    "<span style=\"color:red; font-size:20px;\">There are no null values in the dataset. So, here there is no need to apply changes for the null values.</span>"
   ]
  },
  {
   "cell_type": "markdown",
   "id": "64623a00-0ea6-4654-94d1-e3d85f8962df",
   "metadata": {},
   "source": [
    "<font size=\"6\">**Analysis on Different Columns**</font>"
   ]
  },
  {
   "cell_type": "markdown",
   "id": "70bf08e3-947b-49d7-a0fa-1eef097d2c0c",
   "metadata": {},
   "source": [
    "<font size=\"5\">**Caste Distribution**</font>"
   ]
  },
  {
   "cell_type": "code",
   "execution_count": 12,
   "id": "4c25b52b-0abb-457d-939f-37bc3fec2227",
   "metadata": {},
   "outputs": [
    {
     "data": {
      "text/plain": [
       "0       SC\n",
       "1      GEN\n",
       "2      GEN\n",
       "3      GEN\n",
       "4      GEN\n",
       "      ... \n",
       "135    GEN\n",
       "136    GEN\n",
       "137    GEN\n",
       "138    GEN\n",
       "139     SC\n",
       "Name: Type, Length: 140, dtype: object"
      ]
     },
     "execution_count": 12,
     "metadata": {},
     "output_type": "execute_result"
    }
   ],
   "source": [
    "df['Type']"
   ]
  },
  {
   "cell_type": "code",
   "execution_count": 13,
   "id": "377ec82c-1874-4bcf-a13b-211606167d4a",
   "metadata": {},
   "outputs": [
    {
     "data": {
      "text/plain": [
       "array(['SC', 'GEN', 'ST'], dtype=object)"
      ]
     },
     "execution_count": 13,
     "metadata": {},
     "output_type": "execute_result"
    }
   ],
   "source": [
    "df['Type'].unique()"
   ]
  },
  {
   "cell_type": "code",
   "execution_count": 15,
   "id": "643ac3d5-0d21-4a89-82cd-3993df43b5b4",
   "metadata": {},
   "outputs": [
    {
     "name": "stdout",
     "output_type": "stream",
     "text": [
      "Type\n",
      "GEN    124\n",
      "SC      14\n",
      "ST       2\n",
      "Name: count, dtype: int64\n"
     ]
    }
   ],
   "source": [
    "total_value_counts_caste = df['Type'].value_counts()\n",
    "print(total_value_counts_caste)"
   ]
  },
  {
   "cell_type": "code",
   "execution_count": 16,
   "id": "c3707890-0360-4153-8288-80ad2c0e9371",
   "metadata": {},
   "outputs": [
    {
     "data": {
      "image/png": "[encoded data removed]",
      "text/plain": [
       "<Figure size 640x480 with 1 Axes>"
      ]
     },
     "metadata": {},
     "output_type": "display_data"
    }
   ],
   "source": [
    "plt.bar(total_value_counts_caste.index, total_value_counts_caste.values, color = ['blue','red','green'])\n",
    "plt.title(\"Distribution of caste\")\n",
    "plt.xlabel(\"Types of Caste\")\n",
    "plt.ylabel(\"No. of politician\")\n",
    "\n",
    "plt.show()"
   ]
  },
  {
   "cell_type": "code",
   "execution_count": 33,
   "id": "61803dea-715f-4492-b6ad-203cb5cd0d8c",
   "metadata": {},
   "outputs": [],
   "source": [
    "total_caste = df['Type'].value_counts()"
   ]
  },
  {
   "cell_type": "code",
   "execution_count": 36,
   "id": "cfa1d200-c15a-41ef-aaa1-4a7209dfa548",
   "metadata": {},
   "outputs": [
    {
     "data": {
      "image/png": "[encoded data removed]",
      "text/plain": [
       "<Figure size 400x400 with 1 Axes>"
      ]
     },
     "metadata": {},
     "output_type": "display_data"
    }
   ],
   "source": [
    "plt.figure(figsize=(4,4))\n",
    "plt.pie(total_caste, labels=['GEN', 'SC','ST'], startangle=90, colors=['lightcoral', 'lightskyblue','green'])\n",
    "plt.title('Distribution of Types of caste')\n",
    "\n",
    "plt.show()"
   ]
  },
  {
   "cell_type": "markdown",
   "id": "b311e5f1-8ec5-4f05-b467-06f28502a211",
   "metadata": {},
   "source": [
    "<span style=\"color:red; font-size:20px;\">The above pie chart shows that lightcorol color is for the **GEN** caste, green color is for **ST** caste and the lightblue color is for **SC** caste.\n",
    "<br>The candidates of **GEN** caste are maximum and the candidates of **ST** caste are the minimum.</br></span>"
   ]
  },
  {
   "cell_type": "markdown",
   "id": "93f72aa0-380e-4b07-9043-a9bb3f72615a",
   "metadata": {},
   "source": [
    "<font size=\"5\">**Political Party**</font>"
   ]
  },
  {
   "cell_type": "code",
   "execution_count": 17,
   "id": "3393e78d-fbe1-47ec-804e-6d3c75f951d0",
   "metadata": {},
   "outputs": [
    {
     "data": {
      "text/plain": [
       "0                Communist Party Of India\n",
       "1      Communist Party Of India (Marxist)\n",
       "2      Communist Party Of India (Marxist)\n",
       "3                Indian National Congress\n",
       "4      Communist Party Of India (Marxist)\n",
       "                      ...                \n",
       "135    Communist Party Of India (Marxist)\n",
       "136            Indian Union Muslim League\n",
       "137    Communist Party Of India (Marxist)\n",
       "138    Communist Party Of India (Marxist)\n",
       "139              Indian National Congress\n",
       "Name: Party, Length: 140, dtype: object"
      ]
     },
     "execution_count": 17,
     "metadata": {},
     "output_type": "execute_result"
    }
   ],
   "source": [
    "df['Party']"
   ]
  },
  {
   "cell_type": "code",
   "execution_count": 18,
   "id": "ed9fdba4-29d1-42e9-9b37-6743d1d7cbd4",
   "metadata": {},
   "outputs": [
    {
     "data": {
      "text/plain": [
       "array(['Communist Party Of India', 'Communist Party Of India (Marxist)',\n",
       "       'Indian National Congress', 'Kerala Congress(M)', 'Independent',\n",
       "       'Janata Dal (Secular)', 'Nationalist Congress Party',\n",
       "       'Indian Union Muslim League', 'Kerala Congress',\n",
       "       'Congress (Secular)', 'Indian National League',\n",
       "       'Loktantrik Janta Dal', 'Kerala Congress (B)',\n",
       "       'Kerala Congress (Jacob)', 'National Secular Conference',\n",
       "       'Janadhipathiya Kerala Congress',\n",
       "       'Revolutionary Marxist Party Of India'], dtype=object)"
      ]
     },
     "execution_count": 18,
     "metadata": {},
     "output_type": "execute_result"
    }
   ],
   "source": [
    "df['Party'].unique()"
   ]
  },
  {
   "cell_type": "code",
   "execution_count": 19,
   "id": "7023d638-1531-431c-8d22-8f6c81b4d2b7",
   "metadata": {},
   "outputs": [
    {
     "data": {
      "text/plain": [
       "Party\n",
       "Communist Party Of India (Marxist)      62\n",
       "Indian National Congress                21\n",
       "Communist Party Of India                17\n",
       "Indian Union Muslim League              15\n",
       "Independent                              6\n",
       "Kerala Congress(M)                       5\n",
       "Kerala Congress                          2\n",
       "Nationalist Congress Party               2\n",
       "Janata Dal (Secular)                     2\n",
       "Congress (Secular)                       1\n",
       "Indian National League                   1\n",
       "Loktantrik Janta Dal                     1\n",
       "Kerala Congress (B)                      1\n",
       "Kerala Congress (Jacob)                  1\n",
       "National Secular Conference              1\n",
       "Janadhipathiya Kerala Congress           1\n",
       "Revolutionary Marxist Party Of India     1\n",
       "Name: count, dtype: int64"
      ]
     },
     "execution_count": 19,
     "metadata": {},
     "output_type": "execute_result"
    }
   ],
   "source": [
    "df['Party'].value_counts()"
   ]
  },
  {
   "cell_type": "markdown",
   "id": "e2d1f0a8-1cd3-4bc6-9e70-aa7dc65aa369",
   "metadata": {},
   "source": [
    "<span style=\"color:green; font-size:20px;\">From the above data we can get that the maximum number of candidate which are standing for the election is of the party **Communist Party Of India (Marxist)** .\n",
    "And the minimum number of candidate which are standing for the election is of the party **Indian National League, Loktantrik Janta Dal, Congress (Secular), Kerala Congress (B), Kerala Congress (Jacob), National Secular Conference, Janadhipathiya Kerala Congress, Revolutionary Marxist Party Of India**. </span>"
   ]
  },
  {
   "cell_type": "markdown",
   "id": "7215cfcd-f018-4ecd-b813-c91420f4f3cb",
   "metadata": {},
   "source": [
    "<span style=\"color:red; font-size:25px;\">**Party with maximum Candidates**</span>"
   ]
  },
  {
   "cell_type": "code",
   "execution_count": 22,
   "id": "7dcb6a60-e125-4803-927c-9b31fa32c5d5",
   "metadata": {},
   "outputs": [
    {
     "data": {
      "text/plain": [
       "'Revolutionary Marxist Party Of India'"
      ]
     },
     "execution_count": 22,
     "metadata": {},
     "output_type": "execute_result"
    }
   ],
   "source": [
    "df['Party'].max()"
   ]
  },
  {
   "cell_type": "markdown",
   "id": "8aef860a-e947-41f6-a52c-efe81e5f5a4d",
   "metadata": {},
   "source": [
    "<span style=\"color:red; font-size:25px;\">**Party with minmum Candidates**</span>"
   ]
  },
  {
   "cell_type": "code",
   "execution_count": 23,
   "id": "cc6bebbf-0a1e-454c-be9d-add21b7cdaf5",
   "metadata": {},
   "outputs": [
    {
     "data": {
      "text/plain": [
       "'Communist Party Of India'"
      ]
     },
     "execution_count": 23,
     "metadata": {},
     "output_type": "execute_result"
    }
   ],
   "source": [
    "df['Party'].min()"
   ]
  },
  {
   "cell_type": "markdown",
   "id": "0a44dc97-2a49-4ec3-af68-a4ab3d5c1042",
   "metadata": {},
   "source": [
    "<font size=\"6\">**Number of candidates District-wise**</font>"
   ]
  },
  {
   "cell_type": "code",
   "execution_count": 24,
   "id": "79a49f95-ef59-4fa8-89c1-1d28af90c626",
   "metadata": {},
   "outputs": [
    {
     "data": {
      "text/plain": [
       "0          Pathanamthitta\n",
       "1               Alappuzha\n",
       "2                Palakkad\n",
       "3               Ernakulam\n",
       "4               Alappuzha\n",
       "              ...        \n",
       "135    Thiruvananthapuram\n",
       "136            Malappuram\n",
       "137             Ernakulam\n",
       "138              Thrissur\n",
       "139            Malappuram\n",
       "Name: District, Length: 140, dtype: object"
      ]
     },
     "execution_count": 24,
     "metadata": {},
     "output_type": "execute_result"
    }
   ],
   "source": [
    "df['District']"
   ]
  },
  {
   "cell_type": "code",
   "execution_count": 25,
   "id": "646e1ccf-5f30-495b-a7ca-4d9912067fa4",
   "metadata": {},
   "outputs": [
    {
     "data": {
      "text/plain": [
       "array(['Pathanamthitta', 'Alappuzha', 'Palakkad', 'Ernakulam',\n",
       "       'Thiruvananthapuram', 'Kannur', 'Kozhikode', 'Kollam', 'Thrissur',\n",
       "       'Kottayam', 'Idukki', 'Malappuram', 'Wayanad', 'Kasaragod'],\n",
       "      dtype=object)"
      ]
     },
     "execution_count": 25,
     "metadata": {},
     "output_type": "execute_result"
    }
   ],
   "source": [
    "df['District'].unique()"
   ]
  },
  {
   "cell_type": "code",
   "execution_count": 26,
   "id": "0b5d5631-2c10-4e64-8b13-4a2865ebf539",
   "metadata": {},
   "outputs": [
    {
     "data": {
      "text/plain": [
       "District\n",
       "Malappuram            16\n",
       "Ernakulam             14\n",
       "Thiruvananthapuram    14\n",
       "Kozhikode             13\n",
       "Thrissur              13\n",
       "Palakkad              12\n",
       "Kannur                11\n",
       "Kollam                11\n",
       "Alappuzha              9\n",
       "Kottayam               9\n",
       "Pathanamthitta         5\n",
       "Idukki                 5\n",
       "Kasaragod              5\n",
       "Wayanad                3\n",
       "Name: count, dtype: int64"
      ]
     },
     "execution_count": 26,
     "metadata": {},
     "output_type": "execute_result"
    }
   ],
   "source": [
    "df['District'].value_counts()"
   ]
  },
  {
   "cell_type": "markdown",
   "id": "e51015bd-3835-4da8-991c-aa41a306774a",
   "metadata": {},
   "source": [
    "<span style=\"color:red; font-size:20px;\">From the above analysed data we come to know that **Malappuram** district has the maximum number of candidates with **16** candidates. And the minimum is **Wayanad** with **3** candidates.</span>"
   ]
  },
  {
   "cell_type": "code",
   "execution_count": 46,
   "id": "8a1c41da-7706-4bfc-bc76-a7bc369c07f9",
   "metadata": {},
   "outputs": [
    {
     "data": {
      "image/png": "[encoded data removed]",
      "text/plain": [
       "<Figure size 800x600 with 1 Axes>"
      ]
     },
     "metadata": {},
     "output_type": "display_data"
    }
   ],
   "source": [
    "plt.figure(figsize = (8,6))\n",
    "df['District'].value_counts().sort_values().plot(kind = 'barh', color = 'dodgerblue')\n",
    "plt.title(\"District of Election\")\n",
    "plt.xlabel(\"District\")\n",
    "plt.ylabel(\"No. of candidates\")\n",
    "plt.show()"
   ]
  },
  {
   "cell_type": "code",
   "execution_count": 28,
   "id": "3b7adcca-7eeb-446c-bbeb-d9389504cc82",
   "metadata": {},
   "outputs": [
    {
     "data": {
      "image/png": "[encoded data removed]",
      "text/plain": [
       "<Figure size 600x400 with 1 Axes>"
      ]
     },
     "metadata": {},
     "output_type": "display_data"
    }
   ],
   "source": [
    "count_district = df['District'].value_counts()\n",
    "top_district = count_district.head(20)\n",
    "\n",
    "plt.figure(figsize=(6, 4))\n",
    "palette = sns.color_palette(\"Set1\")\n",
    "sns.countplot(x=df[df[\"District\"].isin(top_district.index)][\"District\"], palette=palette)\n",
    "plt.xticks(rotation=90, ha=\"right\")\n",
    "plt.xlabel('District')\n",
    "plt.ylabel('No. of candidates')\n",
    "plt.title(\"Distribution of candidates on bases of district\",fontsize=13)\n",
    "\n",
    "plt.show()"
   ]
  },
  {
   "cell_type": "markdown",
   "id": "5aad4877-b1f7-4eb0-b617-8510f9b9a379",
   "metadata": {},
   "source": [
    "<span style=\"color:green; font-size:20px;\">Above graph shows the distribution of candidated on the bases of district wise.\n",
    "The above graph clearly shows that the maximum **Malappuram** and the minmum is **Wayanad**.</span>"
   ]
  },
  {
   "cell_type": "markdown",
   "id": "4dff224b-47aa-4a1f-850a-52776c848717",
   "metadata": {},
   "source": [
    "<font size=\"6\">**Lets have a look on data of Total Electors and Votes Counted**</font>"
   ]
  },
  {
   "cell_type": "code",
   "execution_count": 29,
   "id": "0c300e1e-2699-4a99-9c6a-4c1350c528c7",
   "metadata": {},
   "outputs": [
    {
     "data": {
      "text/plain": [
       "0      204205\n",
       "1      194187\n",
       "2      164415\n",
       "3      182360\n",
       "4      171291\n",
       "        ...  \n",
       "135    195974\n",
       "136    176389\n",
       "137    165552\n",
       "138    200294\n",
       "139    214741\n",
       "Name: Total Electors, Length: 140, dtype: int64"
      ]
     },
     "execution_count": 29,
     "metadata": {},
     "output_type": "execute_result"
    }
   ],
   "source": [
    "df['Total Electors']"
   ]
  },
  {
   "cell_type": "code",
   "execution_count": 30,
   "id": "a8cfa40f-2737-43c7-b95f-2cd66b4792d5",
   "metadata": {},
   "outputs": [
    {
     "data": {
      "text/plain": [
       "array([204205, 194187, 164415, 182360, 171291, 166980, 228468, 190134,\n",
       "       190088, 195949, 172328, 215827, 194583, 197285, 185970, 166961,\n",
       "       180450, 174993, 187842, 200173, 205890, 192699, 181124, 168875,\n",
       "       184844, 194090, 170142, 171167, 152489, 161816, 195371, 187659,\n",
       "       181416, 188918, 187887, 181208, 161184, 189160, 175316, 195211,\n",
       "       209571, 178911, 165259, 204578, 193015, 188906, 202956, 181248,\n",
       "       172633, 181762, 172959, 170129, 196633, 174578, 195688, 161940,\n",
       "       205405, 198243, 156796, 211706, 171960, 149439, 199981, 219151,\n",
       "       183869, 177018, 202165, 184586, 163667, 189843, 205694, 204136,\n",
       "       205549, 186656, 197781, 212108, 203235, 190489, 181918, 196697,\n",
       "       179830, 203567, 197011, 201703, 184892, 193199, 182075, 208082,\n",
       "       191115, 200302, 177694, 179685, 214664, 188783, 180195, 185002,\n",
       "       176090, 166943, 188997, 170991, 203783, 174915, 199144, 193772,\n",
       "       178887, 203732, 191065, 168957, 194588, 191106, 187255, 213280,\n",
       "       202287, 181753, 164354, 168406, 189489, 205473, 170541, 192527,\n",
       "       184005, 180733, 196609, 169095, 183566, 213715, 189097, 194025,\n",
       "       203810, 161179, 158921, 161075, 188584, 196901, 184450, 195974,\n",
       "       176389, 165552, 200294, 214741], dtype=int64)"
      ]
     },
     "execution_count": 30,
     "metadata": {},
     "output_type": "execute_result"
    }
   ],
   "source": [
    "df['Total Electors'].unique()"
   ]
  },
  {
   "cell_type": "markdown",
   "id": "e6873cb4-8be3-472a-a7e8-f8f35a6c91b9",
   "metadata": {},
   "source": [
    "<span style=\"color:green; font-size:20px;\">Now we will compare that how many of the people have not voted in the particular district.</span>"
   ]
  },
  {
   "cell_type": "code",
   "execution_count": 37,
   "id": "ef742afb-0866-4a0d-88a3-5226d5db432a",
   "metadata": {},
   "outputs": [
    {
     "name": "stdout",
     "output_type": "stream",
     "text": [
      "0      49388\n",
      "1      36830\n",
      "2      29832\n",
      "3      32871\n",
      "4      34861\n",
      "       ...  \n",
      "135    59192\n",
      "136    45625\n",
      "137    35481\n",
      "138    31275\n",
      "139    45474\n",
      "Name: Not Voted, Length: 140, dtype: int64\n"
     ]
    }
   ],
   "source": [
    "df['Not Voted'] = df['Total Electors'] - df['Total Votes']\n",
    "print(df['Not Voted'])"
   ]
  },
  {
   "cell_type": "code",
   "execution_count": 38,
   "id": "0279ceef-81c4-446a-933e-ae4c4955b338",
   "metadata": {},
   "outputs": [
    {
     "data": {
      "text/html": [
       "<div>\n",
       "<style scoped>\n",
       "    .dataframe tbody tr th:only-of-type {\n",
       "        vertical-align: middle;\n",
       "    }\n",
       "\n",
       "    .dataframe tbody tr th {\n",
       "        vertical-align: top;\n",
       "    }\n",
       "\n",
       "    .dataframe thead th {\n",
       "        text-align: right;\n",
       "    }\n",
       "</style>\n",
       "<table border=\"1\" class=\"dataframe\">\n",
       "  <thead>\n",
       "    <tr style=\"text-align: right;\">\n",
       "      <th></th>\n",
       "      <th>AC Name</th>\n",
       "      <th>AC No.</th>\n",
       "      <th>Type</th>\n",
       "      <th>District</th>\n",
       "      <th>Winning Candidate</th>\n",
       "      <th>Party</th>\n",
       "      <th>Total Electors</th>\n",
       "      <th>Total Votes</th>\n",
       "      <th>Poll%</th>\n",
       "      <th>Margin</th>\n",
       "      <th>Margin %</th>\n",
       "      <th>Not Voted</th>\n",
       "    </tr>\n",
       "  </thead>\n",
       "  <tbody>\n",
       "    <tr>\n",
       "      <th>0</th>\n",
       "      <td>Adoor</td>\n",
       "      <td>115</td>\n",
       "      <td>SC</td>\n",
       "      <td>Pathanamthitta</td>\n",
       "      <td>Chittayam Gopakumar</td>\n",
       "      <td>Communist Party Of India</td>\n",
       "      <td>204205</td>\n",
       "      <td>154817</td>\n",
       "      <td>75.8</td>\n",
       "      <td>2919</td>\n",
       "      <td>1.9</td>\n",
       "      <td>49388</td>\n",
       "    </tr>\n",
       "    <tr>\n",
       "      <th>1</th>\n",
       "      <td>Alappuzha</td>\n",
       "      <td>104</td>\n",
       "      <td>GEN</td>\n",
       "      <td>Alappuzha</td>\n",
       "      <td>P.P Chitharanjan</td>\n",
       "      <td>Communist Party Of India (Marxist)</td>\n",
       "      <td>194187</td>\n",
       "      <td>157357</td>\n",
       "      <td>81.0</td>\n",
       "      <td>11644</td>\n",
       "      <td>7.4</td>\n",
       "      <td>36830</td>\n",
       "    </tr>\n",
       "    <tr>\n",
       "      <th>2</th>\n",
       "      <td>Alathur</td>\n",
       "      <td>60</td>\n",
       "      <td>GEN</td>\n",
       "      <td>Palakkad</td>\n",
       "      <td>K.D.Prasenan</td>\n",
       "      <td>Communist Party Of India (Marxist)</td>\n",
       "      <td>164415</td>\n",
       "      <td>134583</td>\n",
       "      <td>81.9</td>\n",
       "      <td>34118</td>\n",
       "      <td>25.4</td>\n",
       "      <td>29832</td>\n",
       "    </tr>\n",
       "    <tr>\n",
       "      <th>3</th>\n",
       "      <td>Aluva</td>\n",
       "      <td>76</td>\n",
       "      <td>GEN</td>\n",
       "      <td>Ernakulam</td>\n",
       "      <td>Anwar Sadath</td>\n",
       "      <td>Indian National Congress</td>\n",
       "      <td>182360</td>\n",
       "      <td>149489</td>\n",
       "      <td>82.0</td>\n",
       "      <td>18886</td>\n",
       "      <td>12.6</td>\n",
       "      <td>32871</td>\n",
       "    </tr>\n",
       "    <tr>\n",
       "      <th>4</th>\n",
       "      <td>Ambalapuzha</td>\n",
       "      <td>105</td>\n",
       "      <td>GEN</td>\n",
       "      <td>Alappuzha</td>\n",
       "      <td>H.Salam</td>\n",
       "      <td>Communist Party Of India (Marxist)</td>\n",
       "      <td>171291</td>\n",
       "      <td>136430</td>\n",
       "      <td>79.6</td>\n",
       "      <td>11125</td>\n",
       "      <td>8.2</td>\n",
       "      <td>34861</td>\n",
       "    </tr>\n",
       "  </tbody>\n",
       "</table>\n",
       "</div>"
      ],
      "text/plain": [
       "       AC Name  AC No. Type        District    Winning Candidate  \\\n",
       "0        Adoor     115   SC  Pathanamthitta  Chittayam Gopakumar   \n",
       "1    Alappuzha     104  GEN       Alappuzha     P.P Chitharanjan   \n",
       "2      Alathur      60  GEN        Palakkad         K.D.Prasenan   \n",
       "3        Aluva      76  GEN       Ernakulam         Anwar Sadath   \n",
       "4  Ambalapuzha     105  GEN       Alappuzha              H.Salam   \n",
       "\n",
       "                                Party  Total Electors  Total Votes  Poll%  \\\n",
       "0            Communist Party Of India          204205       154817   75.8   \n",
       "1  Communist Party Of India (Marxist)          194187       157357   81.0   \n",
       "2  Communist Party Of India (Marxist)          164415       134583   81.9   \n",
       "3            Indian National Congress          182360       149489   82.0   \n",
       "4  Communist Party Of India (Marxist)          171291       136430   79.6   \n",
       "\n",
       "   Margin  Margin %  Not Voted  \n",
       "0    2919       1.9      49388  \n",
       "1   11644       7.4      36830  \n",
       "2   34118      25.4      29832  \n",
       "3   18886      12.6      32871  \n",
       "4   11125       8.2      34861  "
      ]
     },
     "execution_count": 38,
     "metadata": {},
     "output_type": "execute_result"
    }
   ],
   "source": [
    "df.head()"
   ]
  },
  {
   "cell_type": "markdown",
   "id": "dac7b5e1-5c43-49a9-98c6-f9b170a68bd3",
   "metadata": {},
   "source": [
    "<span style=\"color:green; font-size:20px;\">As we can see that a new column has been added to the dataset. So now we will take a look on the analysis based on the new column which is added.</span>"
   ]
  },
  {
   "cell_type": "markdown",
   "id": "364ec411-7d1d-48c9-bbb8-1dbda7a4c93b",
   "metadata": {},
   "source": [
    "<span style=\"color:green; font-size:20px;\">Now we will analys the number of non voters district wise.</span>"
   ]
  },
  {
   "cell_type": "code",
   "execution_count": 39,
   "id": "057282b5-3bc5-44cd-9b3d-fe5238a4699d",
   "metadata": {},
   "outputs": [
    {
     "data": {
      "text/plain": [
       "26204662"
      ]
     },
     "execution_count": 39,
     "metadata": {},
     "output_type": "execute_result"
    }
   ],
   "source": [
    "df['Total Electors'].sum()"
   ]
  },
  {
   "cell_type": "markdown",
   "id": "64193b31-6c5c-4380-a032-b15d60d12a4c",
   "metadata": {},
   "source": [
    "<span style=\"color:green; font-size:20px;\">There are total **26204662** eligible voters for the Kerela Election.</span>"
   ]
  },
  {
   "cell_type": "code",
   "execution_count": 40,
   "id": "35156e6b-d087-457f-991c-12f7a7c98c99",
   "metadata": {},
   "outputs": [
    {
     "data": {
      "text/plain": [
       "5468556"
      ]
     },
     "execution_count": 40,
     "metadata": {},
     "output_type": "execute_result"
    }
   ],
   "source": [
    "df['Not Voted'].sum()"
   ]
  },
  {
   "cell_type": "markdown",
   "id": "183c085e-bf28-4b54-9c89-ba156afb005f",
   "metadata": {},
   "source": [
    "<span style=\"color:green; font-size:20px;\">There are total **5468556** eligible voters who had not voted at all for the Kerela Election.</span>"
   ]
  },
  {
   "cell_type": "code",
   "execution_count": 43,
   "id": "821dad42-468c-491a-83d8-b0edef90d2bd",
   "metadata": {},
   "outputs": [
    {
     "data": {
      "image/png": "[encoded data removed]",
      "text/plain": [
       "<Figure size 600x400 with 1 Axes>"
      ]
     },
     "metadata": {},
     "output_type": "display_data"
    }
   ],
   "source": [
    "plt.figure(figsize = (6,4))\n",
    "colors = ['red', 'purple', 'green']\n",
    "sns.boxplot(data = df, x = 'Type', y = 'Total Electors',palette=colors)\n",
    "plt.title(\"Comparision between type of Caste and Total Electors\")\n",
    "plt.xlabel(\"Type of caste\")\n",
    "plt.ylabel(\"Total Electors\")\n",
    "plt.show()"
   ]
  },
  {
   "cell_type": "markdown",
   "id": "d5872c6d-dc5a-4542-8ed3-399e6271165b",
   "metadata": {},
   "source": [
    "<span style=\"color:green; font-size:20px;\">The figure is the boxplot. The above boxplot compares between the caste type and the total electors.</span>"
   ]
  },
  {
   "cell_type": "code",
   "execution_count": 44,
   "id": "d0038082-108b-498b-afff-3193ea98de2a",
   "metadata": {},
   "outputs": [
    {
     "data": {
      "image/png": "[encoded data removed]",
      "text/plain": [
       "<Figure size 600x400 with 1 Axes>"
      ]
     },
     "metadata": {},
     "output_type": "display_data"
    }
   ],
   "source": [
    "plt.figure(figsize = (6,4))\n",
    "colors = ['purple', 'red', 'green']\n",
    "sns.boxplot(data = df, x = 'Type', y = 'Total Votes', palette = colors)\n",
    "plt.title(\"Comparision between type of caste and Total Votes\")\n",
    "plt.xlabel(\"Type of caste\")\n",
    "plt.ylabel(\"Total Votes\")\n",
    "plt.show()"
   ]
  },
  {
   "cell_type": "markdown",
   "id": "4fc0eec0-148e-4af0-9e47-6313f7a9bd78",
   "metadata": {},
   "source": [
    "<span style=\"color:green; font-size:20px;\">The figure is the boxplot. The above boxplot compares between the caste type and the total voters who voted.</span>"
   ]
  },
  {
   "cell_type": "markdown",
   "id": "a1fd794e-b4ea-4998-8440-f16a00e10110",
   "metadata": {},
   "source": [
    "<span style=\"color:red; font-size:26px;\">**DISTRIBUTION OF TOTAL VOTES**</span>"
   ]
  },
  {
   "cell_type": "code",
   "execution_count": 45,
   "id": "2e2447c3-e824-4f6e-a722-aadf10115c9d",
   "metadata": {},
   "outputs": [
    {
     "data": {
      "image/png": "[encoded data removed]",
      "text/plain": [
       "<Figure size 800x600 with 1 Axes>"
      ]
     },
     "metadata": {},
     "output_type": "display_data"
    }
   ],
   "source": [
    "plt.figure(figsize = (8,6))\n",
    "sns.distplot(df['Total Votes'], color = 'darkred')\n",
    "plt.title(\"Distribution of Total Votes\")\n",
    "plt.show()"
   ]
  },
  {
   "cell_type": "markdown",
   "id": "e86bb35e-d56b-40d6-9ee9-bc04df99fafa",
   "metadata": {},
   "source": [
    "<span style=\"color:red; font-size:25px;\">**WIN MARGIN**</span>"
   ]
  },
  {
   "cell_type": "code",
   "execution_count": 47,
   "id": "9f89825a-f43e-401f-919e-b5ff2a9423f9",
   "metadata": {},
   "outputs": [
    {
     "data": {
      "text/plain": [
       "0       2919\n",
       "1      11644\n",
       "2      34118\n",
       "3      18886\n",
       "4      11125\n",
       "       ...  \n",
       "135    21515\n",
       "136    30596\n",
       "137     8201\n",
       "138    15168\n",
       "139    15563\n",
       "Name: Margin, Length: 140, dtype: int64"
      ]
     },
     "execution_count": 47,
     "metadata": {},
     "output_type": "execute_result"
    }
   ],
   "source": [
    "df['Margin']"
   ]
  },
  {
   "cell_type": "code",
   "execution_count": 48,
   "id": "9d8685ca-03ce-42d4-8aa0-d9a24d7145c0",
   "metadata": {},
   "outputs": [
    {
     "data": {
      "text/plain": [
       "array([ 2919, 11644, 34118, 18886, 11125, 15929, 19003,  7013,  5046,\n",
       "       31636,  6141, 20372, 28747, 13678,  1057,  6059, 17206,  1096,\n",
       "       39400, 32093,  6148, 14017, 33878,  7848, 50123, 38502, 28121,\n",
       "       22546, 10970, 14303, 18268, 13666,  5573, 10010,  5949,  4256,\n",
       "       22698, 15336, 44393,  5470, 27139, 13703,  1745, 29208, 12901,\n",
       "       23231,  6298, 23497, 14079, 23893,  6344,  2072, 17666, 27219,\n",
       "        8508,  6605, 16588, 10814, 18743, 11562, 12928, 12459,  4523,\n",
       "       10276, 26631,  2715,  2790,  9541,  5516,   333, 25734, 35208,\n",
       "       29876,  9282, 14573,   745,  6246,  5870, 60963, 24717,  6161,\n",
       "        4035, 28431, 23309, 28704,  3949, 14262,  2700, 21506, 15152,\n",
       "       15378,  3859, 25828, 21301, 14336, 17974, 49780,  1835, 22592,\n",
       "        3172,    38,  2899, 25364, 17043, 16817, 37057, 27353,  9044,\n",
       "        8472,  1285, 36674, 11822, 22689,   985, 24531, 36801,  2564,\n",
       "       11421,  4643,  7089, 20259, 14329,   992,   946,  3016,  7214,\n",
       "        9578, 26137, 13322, 38305,  7491, 29122, 14116, 10242, 17821,\n",
       "       21515, 30596,  8201, 15168, 15563], dtype=int64)"
      ]
     },
     "execution_count": 48,
     "metadata": {},
     "output_type": "execute_result"
    }
   ],
   "source": [
    "df['Margin'].unique()"
   ]
  },
  {
   "cell_type": "code",
   "execution_count": 49,
   "id": "f86d0e2a-63d0-4866-9848-6d80f3ceb03e",
   "metadata": {},
   "outputs": [
    {
     "data": {
      "text/plain": [
       "60963"
      ]
     },
     "execution_count": 49,
     "metadata": {},
     "output_type": "execute_result"
    }
   ],
   "source": [
    "df['Margin'].max()"
   ]
  },
  {
   "cell_type": "markdown",
   "id": "7b5e7510-1b88-4f2f-9d9b-69a9500e588e",
   "metadata": {},
   "source": [
    "<span style=\"color:red; font-size:20px;\">The above figure shows that the maximum number of margin is **60963** by which the party has won the election </span>"
   ]
  },
  {
   "cell_type": "code",
   "execution_count": 50,
   "id": "0b5b3fce-bc26-4578-96b4-aa11c05e4e9a",
   "metadata": {},
   "outputs": [
    {
     "data": {
      "text/plain": [
       "38"
      ]
     },
     "execution_count": 50,
     "metadata": {},
     "output_type": "execute_result"
    }
   ],
   "source": [
    "df['Margin'].min()"
   ]
  },
  {
   "cell_type": "markdown",
   "id": "bdab4b1d-1949-4d11-a3cf-ee114953e1d9",
   "metadata": {},
   "source": [
    "<span style=\"color:green; font-size:20px;\">The above figure shows that the minmum number of margin is **38** by which the party has won the election </span>"
   ]
  },
  {
   "cell_type": "code",
   "execution_count": 51,
   "id": "eb4dc567-518d-420d-ae0b-e59362076b54",
   "metadata": {},
   "outputs": [
    {
     "data": {
      "text/plain": [
       "0       1.9\n",
       "1       7.4\n",
       "2      25.4\n",
       "3      12.6\n",
       "4       8.2\n",
       "       ... \n",
       "135    15.7\n",
       "136    23.4\n",
       "137     6.3\n",
       "138     9.0\n",
       "139     9.2\n",
       "Name: Margin %, Length: 140, dtype: float64"
      ]
     },
     "execution_count": 51,
     "metadata": {},
     "output_type": "execute_result"
    }
   ],
   "source": [
    "df['Margin %']"
   ]
  },
  {
   "cell_type": "code",
   "execution_count": 52,
   "id": "efb443b9-ee7e-4e43-b501-69d82face2c9",
   "metadata": {},
   "outputs": [
    {
     "data": {
      "text/plain": [
       "array([ 1.9,  7.4, 25.4, 12.6,  8.2, 11.6, 11.8,  4.3,  3.5, 21.6, 11.2,\n",
       "       17.5,  9.3,  0.7,  4.9,  0.8, 25.8, 21.9,  9.7, 22.3,  6.8, 31.4,\n",
       "       23.6, 15.8, 10. , 11.4, 12.5,  9.1,  6.6,  3.8,  3.3, 16.7,  9.9,\n",
       "       30.6,  3.6, 16.3,  1.3, 16.9,  9. , 16. ,  3.9, 17.1, 11. , 16.1,\n",
       "        4.2,  1.6, 10.8, 19.8,  5.7,  4.8, 10.4,  7.3, 15.5,  9.4, 10.5,\n",
       "        2.9,  5.3, 17.3,  1.8,  1.7,  6.1,  4.4,  0.2, 17.9,  0.4,  3.7,\n",
       "       39.5, 16.5,  2.3, 18.6, 15.3, 19.1,  2.7, 10.3, 13.8,  9.5, 15.9,\n",
       "       13.5, 11.9, 33.4,  1.4,  2.2,  0. ,  2. , 16.2, 12.1, 25.5, 17.6,\n",
       "        6.9,  5.2,  1. , 24.2,  7.1, 12.8,  0.6, 18.8, 28.2,  5.6, 14.7,\n",
       "        6.5, 16.4,  8.1, 30.8,  5.5, 22.9,  7. , 13.3, 15.7, 23.4,  6.3,\n",
       "        9.2])"
      ]
     },
     "execution_count": 52,
     "metadata": {},
     "output_type": "execute_result"
    }
   ],
   "source": [
    "df['Margin %'].unique()"
   ]
  },
  {
   "cell_type": "code",
   "execution_count": 53,
   "id": "c04b564a-c883-43d8-ad45-511048b5e632",
   "metadata": {},
   "outputs": [
    {
     "data": {
      "text/plain": [
       "39.5"
      ]
     },
     "execution_count": 53,
     "metadata": {},
     "output_type": "execute_result"
    }
   ],
   "source": [
    "df['Margin %'].max()"
   ]
  },
  {
   "cell_type": "code",
   "execution_count": 54,
   "id": "ac0f0a1a-dedf-4d21-b5d4-35d9979c7f3d",
   "metadata": {},
   "outputs": [
    {
     "data": {
      "text/plain": [
       "0.0"
      ]
     },
     "execution_count": 54,
     "metadata": {},
     "output_type": "execute_result"
    }
   ],
   "source": [
    "df['Margin %'].min()"
   ]
  },
  {
   "cell_type": "markdown",
   "id": "76be3a28-d580-48d3-8f7b-a47a1d94f79b",
   "metadata": {},
   "source": [
    "<span style=\"color:green; font-size:20px;\">The above figure show the margin % of the election won.</span>"
   ]
  },
  {
   "cell_type": "code",
   "execution_count": 55,
   "id": "13b4de46-4bb2-448b-8e99-cf045420ec96",
   "metadata": {},
   "outputs": [
    {
     "data": {
      "text/plain": [
       "0      75.8\n",
       "1      81.0\n",
       "2      81.9\n",
       "3      82.0\n",
       "4      79.6\n",
       "       ... \n",
       "135    69.8\n",
       "136    74.1\n",
       "137    78.6\n",
       "138    84.4\n",
       "139    78.8\n",
       "Name: Poll%, Length: 140, dtype: float64"
      ]
     },
     "execution_count": 55,
     "metadata": {},
     "output_type": "execute_result"
    }
   ],
   "source": [
    "df['Poll%']"
   ]
  },
  {
   "cell_type": "code",
   "execution_count": 56,
   "id": "40425160-9506-4079-bca4-bfc5083c79f2",
   "metadata": {},
   "outputs": [
    {
     "data": {
      "text/plain": [
       "array([75.8, 81. , 81.9, 82. , 79.6, 82.2, 70.6, 86.1, 76.2, 74.8, 83.8,\n",
       "       84.1, 84.6, 74.3, 76.4, 73.8, 81.2, 73.3, 86.2, 74.9, 83.7, 68.1,\n",
       "       86.5, 84.2, 74.2, 83.3, 71.7, 77.5, 74.6, 80. , 72. , 80.5, 82.3,\n",
       "       72.1, 81.6, 82.7, 79.3, 76.6, 80.8, 84.5, 74.5, 76.7, 79.2, 75.9,\n",
       "       81.4, 87.2, 83.2, 78.8, 76.3, 75.1, 77.3, 79.7, 77.9, 88. , 83.9,\n",
       "       89.3, 79. , 81.1, 81.3, 82.5, 79.4, 84.8, 75.4, 75.2, 76. , 83. ,\n",
       "       77.6, 75.7, 83.4, 86.4, 82.9, 78. , 71.4, 77.7, 66.6, 87.7, 67.6,\n",
       "       83.6, 66.1, 78.9, 77.8, 82.4, 80.9, 85.8, 74.1, 72.9, 69.8, 78.6,\n",
       "       84.4])"
      ]
     },
     "execution_count": 56,
     "metadata": {},
     "output_type": "execute_result"
    }
   ],
   "source": [
    "df['Poll%'].unique()"
   ]
  },
  {
   "cell_type": "code",
   "execution_count": 57,
   "id": "8954b025-2f3f-450f-8704-965b2b6f1d92",
   "metadata": {},
   "outputs": [
    {
     "data": {
      "text/plain": [
       "89.3"
      ]
     },
     "execution_count": 57,
     "metadata": {},
     "output_type": "execute_result"
    }
   ],
   "source": [
    "df['Poll%'].max()"
   ]
  },
  {
   "cell_type": "code",
   "execution_count": 58,
   "id": "c5413b49-5385-416f-b091-5b4b1d951c26",
   "metadata": {},
   "outputs": [
    {
     "data": {
      "text/plain": [
       "66.1"
      ]
     },
     "execution_count": 58,
     "metadata": {},
     "output_type": "execute_result"
    }
   ],
   "source": [
    "df['Poll%'].min()"
   ]
  },
  {
   "cell_type": "code",
   "execution_count": 59,
   "id": "8b939e50-8a47-49ec-91e9-21ede8dff15b",
   "metadata": {},
   "outputs": [
    {
     "data": {
      "text/plain": [
       "Poll%\n",
       "78.8    7\n",
       "79.7    4\n",
       "77.5    4\n",
       "75.8    3\n",
       "74.8    3\n",
       "79.3    3\n",
       "80.8    3\n",
       "81.2    3\n",
       "84.1    3\n",
       "80.0    3\n",
       "76.0    3\n",
       "81.3    2\n",
       "84.8    2\n",
       "75.2    2\n",
       "77.3    2\n",
       "75.1    2\n",
       "83.0    2\n",
       "76.3    2\n",
       "77.6    2\n",
       "87.2    2\n",
       "Name: count, dtype: int64"
      ]
     },
     "execution_count": 59,
     "metadata": {},
     "output_type": "execute_result"
    }
   ],
   "source": [
    "pol = df['Poll%'].value_counts()\n",
    "pol.head(20)"
   ]
  },
  {
   "cell_type": "code",
   "execution_count": 60,
   "id": "64d26a35-71f7-49df-8a0a-8570232e0f73",
   "metadata": {},
   "outputs": [
    {
     "data": {
      "image/png": "[encoded data removed]",
      "text/plain": [
       "<Figure size 600x400 with 1 Axes>"
      ]
     },
     "metadata": {},
     "output_type": "display_data"
    }
   ],
   "source": [
    "plt.figure(figsize = (6,4))\n",
    "sns.boxplot(data = df, x = 'Type', y = 'Poll%', palette = 'Set1')\n",
    "plt.title(\"Comparision between Type of caste and Polling Percentage\")\n",
    "plt.xlabel(\"Type of caste\")\n",
    "plt.ylabel(\"Poll %\")\n",
    "plt.show()"
   ]
  },
  {
   "cell_type": "code",
   "execution_count": null,
   "id": "1241218f-1c57-4079-9904-9179cd937856",
   "metadata": {},
   "outputs": [],
   "source": []
  }
 ],
 "metadata": {
  "kernelspec": {
   "display_name": "Python 3 (ipykernel)",
   "language": "python",
   "name": "python3"
  },
  "language_info": {
   "codemirror_mode": {
    "name": "ipython",
    "version": 3
   },
   "file_extension": ".py",
   "mimetype": "text/x-python",
   "name": "python",
   "nbconvert_exporter": "python",
   "pygments_lexer": "ipython3",
   "version": "3.11.4"
  }
 },
 "nbformat": 4,
 "nbformat_minor": 5
}
